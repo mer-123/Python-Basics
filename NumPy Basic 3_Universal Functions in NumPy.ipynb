{
 "cells": [
  {
   "cell_type": "code",
   "execution_count": 6,
   "metadata": {},
   "outputs": [
    {
     "name": "stdout",
     "output_type": "stream",
     "text": [
      "x  = [0 1 2 3]\n",
      "x+5= [5 6 7 8]\n",
      "x+10= [10 11 12 13]\n",
      "x-5= [-5 -4 -3 -2]\n",
      "x-31= [-31 -30 -29 -28]\n",
      "x*3= [0 3 6 9]\n",
      "x*2= [0 2 4 6]\n",
      "x/2= [0.  0.5 1.  1.5]\n",
      "x//2= [0 0 1 1]\n"
     ]
    },
    {
     "data": {
      "text/plain": [
       "array([0, 0, 1, 1], dtype=int32)"
      ]
     },
     "execution_count": 6,
     "metadata": {},
     "output_type": "execute_result"
    }
   ],
   "source": [
    "#NumPy Universal Functions: Vectorized operations in NumPy are implemented by ufuncs. Ufuncs are extremely flexible.\n",
    "#Ufuncs can exist in two ways: unary ufuncs(operate on single input) & binary ufuncs(operate on two inputs).\n",
    "\n",
    "#1: Array Arithmetic\n",
    "import numpy as np\n",
    "np.random.seed(0)\n",
    "\n",
    "x=np.arange(4)\n",
    "print(\"x  =\",x)\n",
    "print(\"x+5=\",x+5)                  #Addition or np.add\n",
    "print(\"x+10=\",x+10)\n",
    "np.add(x,5)\n",
    "np.add(x,10)\n",
    "print(\"x-5=\",x-5)                  #Subtration or np.subtract\n",
    "print(\"x-31=\",x-31)\n",
    "np.subtract(x,5)\n",
    "np.subtract(x,-31)\n",
    "print(\"x*3=\",x*3)                  #Multiplication or np.multiply\n",
    "print(\"x*2=\",x*2)\n",
    "np.multiply(x,3)\n",
    "np.multiply(x,2)\n",
    "print(\"x/2=\",x/2)                  #Division or np.divide\n",
    "np.divide(x,2)\n",
    "print(\"x//2=\",x//2)                #Floor Division or np.floor_divide\n",
    "np.floor_divide(x,2)"
   ]
  },
  {
   "cell_type": "code",
   "execution_count": 10,
   "metadata": {},
   "outputs": [
    {
     "name": "stdout",
     "output_type": "stream",
     "text": [
      "-x = [ 0 -1 -2 -3]\n",
      "x**2= [0 1 4 9]\n",
      "x**3= [ 0  1  8 27]\n",
      "x%2= [0 1 0 1]\n",
      "x%3= [0 1 2 0]\n",
      "x%-2= [ 0 -1  0 -1]\n"
     ]
    },
    {
     "data": {
      "text/plain": [
       "array([ 0, -1,  0, -1], dtype=int32)"
      ]
     },
     "execution_count": 10,
     "metadata": {},
     "output_type": "execute_result"
    }
   ],
   "source": [
    "#Negation can be done using a negative sign(-) or np.negative\n",
    "#Exponentiation can be done by using ** operator or np.power\n",
    "#Modulus/Remainder can be found by using % operator or np.mod \n",
    "\n",
    "print(\"-x =\",-x)\n",
    "np.negative(1)\n",
    "print(\"x**2=\",x**2)\n",
    "np.power(x,2)\n",
    "print(\"x**3=\",x**3)\n",
    "np.power(x,3)\n",
    "print(\"x%2=\",x%2)\n",
    "np.mod(x,2)\n",
    "print(\"x%3=\",x%3)\n",
    "np.mod(x,3)\n",
    "print(\"x%-2=\",x%-2)\n",
    "np.mod(x,-2)"
   ]
  },
  {
   "cell_type": "code",
   "execution_count": 11,
   "metadata": {},
   "outputs": [
    {
     "data": {
      "text/plain": [
       "array([2, 1, 0, 1, 2])"
      ]
     },
     "execution_count": 11,
     "metadata": {},
     "output_type": "execute_result"
    }
   ],
   "source": [
    "#2: Absolute Value: Use abs() or np.absolute() or np.abs()\n",
    "\n",
    "x=np.array([-2,-1,0,1,2])\n",
    "abs(x)"
   ]
  },
  {
   "cell_type": "code",
   "execution_count": 13,
   "metadata": {},
   "outputs": [
    {
     "data": {
      "text/plain": [
       "array([2, 1, 0, 1, 2])"
      ]
     },
     "execution_count": 13,
     "metadata": {},
     "output_type": "execute_result"
    }
   ],
   "source": [
    "np.absolute(x)"
   ]
  },
  {
   "cell_type": "code",
   "execution_count": 14,
   "metadata": {},
   "outputs": [
    {
     "data": {
      "text/plain": [
       "array([2, 1, 0, 1, 2])"
      ]
     },
     "execution_count": 14,
     "metadata": {},
     "output_type": "execute_result"
    }
   ],
   "source": [
    "np.abs(x)"
   ]
  },
  {
   "cell_type": "code",
   "execution_count": 15,
   "metadata": {},
   "outputs": [
    {
     "data": {
      "text/plain": [
       "array([5., 5., 2., 1.])"
      ]
     },
     "execution_count": 15,
     "metadata": {},
     "output_type": "execute_result"
    }
   ],
   "source": [
    "x = np.array([3 - 4j, 4 - 3j, 2 + 0j, 0 + 1j])\n",
    "np.abs(x)"
   ]
  },
  {
   "cell_type": "code",
   "execution_count": 16,
   "metadata": {},
   "outputs": [],
   "source": [
    "#3: Trignometric Functions: \n",
    "#Defining an array of angles:\n",
    "\n",
    "theta=np.linspace(0,np.pi,3)"
   ]
  },
  {
   "cell_type": "code",
   "execution_count": 18,
   "metadata": {},
   "outputs": [
    {
     "name": "stdout",
     "output_type": "stream",
     "text": [
      "theta = [0.         1.57079633 3.14159265]\n",
      "sin(theta)= [0.0000000e+00 1.0000000e+00 1.2246468e-16]\n",
      "cos(theta)= [ 1.000000e+00  6.123234e-17 -1.000000e+00]\n",
      "tan(theta)= [ 0.00000000e+00  1.63312394e+16 -1.22464680e-16]\n"
     ]
    }
   ],
   "source": [
    "#Computing trignometric functions on these values:\n",
    "\n",
    "print(\"theta =\", theta)\n",
    "print(\"sin(theta)=\",np.sin(theta))\n",
    "print(\"cos(theta)=\",np.cos(theta))\n",
    "print(\"tan(theta)=\",np.tan(theta))"
   ]
  },
  {
   "cell_type": "code",
   "execution_count": 19,
   "metadata": {},
   "outputs": [
    {
     "name": "stdout",
     "output_type": "stream",
     "text": [
      "x  = [-1, 0, 1]\n",
      "arcsin(x)= [-1.57079633  0.          1.57079633]\n",
      "arccos(x)= [3.14159265 1.57079633 0.        ]\n",
      "arctan(x)= [-0.78539816  0.          0.78539816]\n"
     ]
    }
   ],
   "source": [
    "#Inverse trigonometric functions: Use arcsin(),arccos(), arctan()\n",
    "\n",
    "x=[-1,0,1]\n",
    "print(\"x  =\",x)\n",
    "print(\"arcsin(x)=\", np.arcsin(x))\n",
    "print(\"arccos(x)=\", np.arccos(x))\n",
    "print(\"arctan(x)=\", np.arctan(x))"
   ]
  },
  {
   "cell_type": "code",
   "execution_count": 21,
   "metadata": {},
   "outputs": [
    {
     "name": "stdout",
     "output_type": "stream",
     "text": [
      "x   = [1, 2, 3]\n",
      "e^x = [ 2.71828183  7.3890561  20.08553692]\n",
      "2^x = [2. 4. 8.]\n",
      "3^x = [ 3  9 27]\n"
     ]
    }
   ],
   "source": [
    "#4: Exponents & Logarithms:\n",
    "#For Exponentials:\n",
    "\n",
    "x=[1,2,3]\n",
    "print(\"x   =\",x)\n",
    "print(\"e^x =\",np.exp(x))           #e raised to the power of the values in array\n",
    "print(\"2^x =\",np.exp2(x))          \n",
    "print(\"3^x =\",np.power(3,x))       "
   ]
  },
  {
   "cell_type": "code",
   "execution_count": 22,
   "metadata": {},
   "outputs": [
    {
     "name": "stdout",
     "output_type": "stream",
     "text": [
      "x   = [1, 2, 4, 10]\n",
      "ln(x)  = [0.         0.69314718 1.38629436 2.30258509]\n",
      "log2(x)   = [0.         1.         2.         3.32192809]\n",
      "log10(x)  = [0.         0.30103    0.60205999 1.        ]\n"
     ]
    }
   ],
   "source": [
    "#For Logarithms: Inverse of Exponentials are Logarithms. \n",
    "#np.log() gives natural logarithm \n",
    "#np.log2() gives Base-2 Logarithm\n",
    "#np.log10() gives Base-10 Logaritm\n",
    "\n",
    "x=[1,2,4,10]\n",
    "print(\"x   =\",x)\n",
    "print(\"ln(x)  =\", np.log(x))\n",
    "print(\"log2(x)   =\", np.log2(x))\n",
    "print(\"log10(x)  =\", np.log10(x))"
   ]
  },
  {
   "cell_type": "code",
   "execution_count": 23,
   "metadata": {},
   "outputs": [
    {
     "name": "stdout",
     "output_type": "stream",
     "text": [
      "exp(x)-1= [0.         0.0010005  0.01005017 0.10517092]\n",
      "log(1+x)= [0.         0.0009995  0.00995033 0.09531018]\n"
     ]
    }
   ],
   "source": [
    "#More precision with very small input:\n",
    "\n",
    "x=[0, 0.001, 0.01, .1]\n",
    "print(\"exp(x)-1=\", np.expm1(x))\n",
    "print(\"log(1+x)=\", np.log1p(x))"
   ]
  },
  {
   "cell_type": "code",
   "execution_count": 24,
   "metadata": {},
   "outputs": [],
   "source": [
    "#Specialized ufuncs: Specialized and obscure ufuncs is the submodule scipy.special.\n",
    "\n",
    "from scipy import special"
   ]
  },
  {
   "cell_type": "code",
   "execution_count": null,
   "metadata": {},
   "outputs": [],
   "source": [
    "\n"
   ]
  }
 ],
 "metadata": {
  "kernelspec": {
   "display_name": "Python 3",
   "language": "python",
   "name": "python3"
  },
  "language_info": {
   "codemirror_mode": {
    "name": "ipython",
    "version": 3
   },
   "file_extension": ".py",
   "mimetype": "text/x-python",
   "name": "python",
   "nbconvert_exporter": "python",
   "pygments_lexer": "ipython3",
   "version": "3.7.3"
  }
 },
 "nbformat": 4,
 "nbformat_minor": 2
}
